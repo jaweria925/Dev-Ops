{
 "cells": [
  {
   "cell_type": "code",
   "execution_count": 8,
   "metadata": {},
   "outputs": [],
   "source": [
    "import boto3\n",
    "from datetime import datetime"
   ]
  },
  {
   "cell_type": "code",
   "execution_count": 9,
   "metadata": {},
   "outputs": [],
   "source": [
    "current_date = datetime.today()"
   ]
  },
  {
   "cell_type": "code",
   "execution_count": 30,
   "metadata": {},
   "outputs": [
    {
     "name": "stdout",
     "output_type": "stream",
     "text": [
      "Current date and time: 2025-01-10 09:30:43\n"
     ]
    }
   ],
   "source": [
    "formated_date = current_date.strftime(\"%Y-%m-%d %H:%M:%S\")\n",
    "print(\"Current date and time:\", formated_date)"
   ]
  },
  {
   "cell_type": "code",
   "execution_count": 16,
   "metadata": {},
   "outputs": [],
   "source": [
    "s3_client = boto3.client('s3')\n",
    "bucket_name = 'python0985'\n"
   ]
  },
  {
   "cell_type": "code",
   "execution_count": 21,
   "metadata": {},
   "outputs": [],
   "source": [
    "client_response = s3_client.list_objects_v2(Bucket=bucket_name)"
   ]
  },
  {
   "cell_type": "code",
   "execution_count": 22,
   "metadata": {},
   "outputs": [],
   "source": [
    "get_content = client_response.get('Contents')"
   ]
  },
  {
   "cell_type": "code",
   "execution_count": 24,
   "metadata": {},
   "outputs": [],
   "source": [
    "s3_objects_name_and_folder = [] #create an empty list to store the s3 objects name and folder\n",
    "for item in get_content:\n",
    "    s3_object_name = item.get('Key')\n",
    "    s3_objects_name_and_folder.append(s3_object_name) #sent objects ino the empty list"
   ]
  },
  {
   "cell_type": "code",
   "execution_count": 25,
   "metadata": {},
   "outputs": [
    {
     "name": "stdout",
     "output_type": "stream",
     "text": [
      "2025-01-10 09:30:43/\n"
     ]
    }
   ],
   "source": [
    "folder_name = formated_date + \"/\"\n",
    "print(folder_name)"
   ]
  },
  {
   "cell_type": "code",
   "execution_count": 26,
   "metadata": {},
   "outputs": [],
   "source": [
    "if folder_name not in s3_objects_name_and_folder: # To check folder is exist or not if foler not exist run this commmand\n",
    "    s3_client.put_object(Bucket=bucket_name, Key=folder_name)\n",
    "    "
   ]
  },
  {
   "cell_type": "code",
   "execution_count": null,
   "metadata": {},
   "outputs": [
    {
     "name": "stdout",
     "output_type": "stream",
     "text": [
      "object creation date: 2025-01-01/10/25 06:37:03/\n",
      "object creation date: 2025-01-01/10/25 06:38:46/\n",
      "object creation date: 2025-01-01/10/25 06:38:47/\n",
      "object creation date: 2025-01-01/10/25 06:38:48/\n"
     ]
    }
   ],
   "source": [
    "for item in get_content:\n",
    "    obj_creation_date = item.get('LastModified').strftime(\"%Y-%m-%d %H:%M:%S\") + \"/\"\n",
    "    object_name = item.get(\"Key\")\n",
    "    print(f\"object creation date: {obj_creation_date}\")\n",
    "\n",
    "    if obj_creation_date == folder_name and \"/\" not in object_name:\n",
    "        s3_client.copy_object(Bucket=bucket_name, CopySource=bucket_name+\"/\"+object_name, Key=folder_name+object_name)"
   ]
  },
  {
   "cell_type": "code",
   "execution_count": 28,
   "metadata": {},
   "outputs": [],
   "source": [
    "if obj_creation_date == folder_name and \"/\" not in object_name:\n",
    "    s3_client.copy_object(Bucket=bucket_name, CopySource=bucket_name+\"/\"+object_name, Key=folder_name+object_name)\n",
    "    s3_client.delete_object(Bucket=bucket_name, Key=object_name)"
   ]
  },
  {
   "cell_type": "code",
   "execution_count": null,
   "metadata": {},
   "outputs": [],
   "source": []
  },
  {
   "cell_type": "code",
   "execution_count": null,
   "metadata": {},
   "outputs": [],
   "source": []
  }
 ],
 "metadata": {
  "kernelspec": {
   "display_name": "Python 3",
   "language": "python",
   "name": "python3"
  },
  "language_info": {
   "codemirror_mode": {
    "name": "ipython",
    "version": 3
   },
   "file_extension": ".py",
   "mimetype": "text/x-python",
   "name": "python",
   "nbconvert_exporter": "python",
   "pygments_lexer": "ipython3",
   "version": "3.12.4"
  }
 },
 "nbformat": 4,
 "nbformat_minor": 2
}
